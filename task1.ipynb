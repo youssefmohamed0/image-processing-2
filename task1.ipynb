{
 "cells": [
  {
   "cell_type": "code",
   "execution_count": 1,
   "metadata": {},
   "outputs": [],
   "source": [
    "import cv2\n",
    "import numpy as np\n",
    "import matplotlib.pyplot as plt\n",
    "from PIL import Image"
   ]
  },
  {
   "cell_type": "code",
   "execution_count": 2,
   "metadata": {},
   "outputs": [],
   "source": [
    "video_path = \"video\\ImageSess2.mp4\""
   ]
  },
  {
   "cell_type": "code",
   "execution_count": 3,
   "metadata": {},
   "outputs": [],
   "source": [
    "def apply_filters(frame):\n",
    "\n",
    "    sharp_kernel=np.array([[-1,-1,-1],\n",
    "                            [-1,9,-1],\n",
    "                            [-1,-1,-1]])\n",
    "\n",
    "\n",
    "    blur = cv2.blur(frame,(11,11))\n",
    "    \n",
    "    sharpened_frame=cv2.filter2D(blur,-1,sharp_kernel)\n",
    "\n",
    "    Med_blur=cv2.medianBlur(sharpened_frame,13)\n",
    "\n",
    "    sharpened_frame=cv2.filter2D(Med_blur,-1,sharp_kernel)\n",
    "\n",
    "    gauss_blur = cv2.GaussianBlur(sharpened_frame,(5,5),20)\n",
    "\n",
    "\n",
    "    return gauss_blur\n",
    "    "
   ]
  },
  {
   "cell_type": "code",
   "execution_count": 4,
   "metadata": {},
   "outputs": [],
   "source": [
    "def get_range(color):\n",
    "    c=np.uint8([[color]])\n",
    "\n",
    "    hsvc = cv2.cvtColor(c,cv2.COLOR_BGR2HSV)\n",
    "\n",
    "    lowerlimt = max(0,hsvc[0][0][0]-35), max(0,hsvc[0][0][1] -105), max(0,hsvc[0][0][2] - 95)        # if value is negative set it to 0\n",
    "    upperlimt = min(255,hsvc[0][0][0]+35), min(255,hsvc[0][0][1] +95), min(255,hsvc[0][0][2] + 95)  # if value is over 255 set it to 255\n",
    "\n",
    "    lowerlimt = np.array(lowerlimt, dtype=np.uint8)\n",
    "    upperlimt = np.array(upperlimt, dtype=np.uint8)\n",
    "\n",
    "    return lowerlimt, upperlimt"
   ]
  },
  {
   "cell_type": "code",
   "execution_count": 5,
   "metadata": {},
   "outputs": [],
   "source": [
    "cap = cv2.VideoCapture(video_path)\n",
    "\n",
    "orange = [54,57,115]\n",
    "\n",
    "kernel = np.ones((5, 5), np.uint8) \n",
    "\n",
    "while True:\n",
    "    ret, frame = cap.read()    \n",
    "    if not ret:\n",
    "        break\n",
    "    \n",
    "    edited_frame=apply_filters(frame)\n",
    "\n",
    "    hsv_frame = cv2.cvtColor(edited_frame,cv2.COLOR_BGR2HSV)\n",
    "\n",
    "    lower_color, upper_color = get_range(orange)\n",
    "\n",
    "    mask = cv2.inRange(hsv_frame, lower_color, upper_color)\n",
    "\n",
    "    masked_frame = cv2.bitwise_and(edited_frame,edited_frame,mask=mask)\n",
    "    \n",
    "    \n",
    "\n",
    "    cv2.imshow(\"original\",edited_frame)\n",
    "    cv2.imshow(\"video\",masked_frame)\n",
    "\n",
    "    if cv2.waitKey(50) & 0xFF == ord(\"q\"):\n",
    "        break\n",
    "\n",
    "cap.release()\n",
    "cv2.destroyAllWindows()"
   ]
  }
 ],
 "metadata": {
  "kernelspec": {
   "display_name": "Python 3",
   "language": "python",
   "name": "python3"
  },
  "language_info": {
   "codemirror_mode": {
    "name": "ipython",
    "version": 3
   },
   "file_extension": ".py",
   "mimetype": "text/x-python",
   "name": "python",
   "nbconvert_exporter": "python",
   "pygments_lexer": "ipython3",
   "version": "3.11.5"
  }
 },
 "nbformat": 4,
 "nbformat_minor": 2
}
